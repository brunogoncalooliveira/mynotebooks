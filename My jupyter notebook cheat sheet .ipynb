{
 "cells": [
  {
   "cell_type": "markdown",
   "metadata": {},
   "source": [
    "# Alargar o tamanho das células"
   ]
  },
  {
   "cell_type": "code",
   "execution_count": 17,
   "metadata": {},
   "outputs": [
    {
     "data": {
      "text/html": [
       "<style>.container { width:90% !important; }</style>"
      ],
      "text/plain": [
       "<IPython.core.display.HTML object>"
      ]
     },
     "metadata": {},
     "output_type": "display_data"
    }
   ],
   "source": [
    "from IPython.core.display import display, HTML\n",
    "display(HTML(\"<style>.container { width:90% !important; }</style>\"))"
   ]
  },
  {
   "cell_type": "markdown",
   "metadata": {},
   "source": [
    "# Mostrar todos os registos ou apenas x de uma DataFrame\n",
    "\n",
    "```pandas.set_option('display.max_rows', None)``` - mostrar todos os registos\n",
    "\n",
    "```pandas.set_option('display.max_rows', 10)``` - mostrar apenas 10 registos"
   ]
  },
  {
   "cell_type": "markdown",
   "metadata": {},
   "source": [
    "# Mostrar outputs lado a lado - exemplo 1"
   ]
  },
  {
   "cell_type": "code",
   "execution_count": 18,
   "metadata": {},
   "outputs": [
    {
     "data": {
      "text/html": [
       "<style  type=\"text/css\" >\n",
       "</style><table id=\"T_3e424474_4819_11eb_a1cf_c82a1448dfbe\" style='display:inline'><caption>tabela 1</caption><thead>    <tr>        <th class=\"blank level0\" ></th>        <th class=\"col_heading level0 col0\" >A</th>        <th class=\"col_heading level0 col1\" >B</th>        <th class=\"col_heading level0 col2\" >C</th>        <th class=\"col_heading level0 col3\" >D</th>    </tr></thead><tbody>\n",
       "                <tr>\n",
       "                        <th id=\"T_3e424474_4819_11eb_a1cf_c82a1448dfbelevel0_row0\" class=\"row_heading level0 row0\" >0</th>\n",
       "                        <td id=\"T_3e424474_4819_11eb_a1cf_c82a1448dfberow0_col0\" class=\"data row0 col0\" >0</td>\n",
       "                        <td id=\"T_3e424474_4819_11eb_a1cf_c82a1448dfberow0_col1\" class=\"data row0 col1\" >1</td>\n",
       "                        <td id=\"T_3e424474_4819_11eb_a1cf_c82a1448dfberow0_col2\" class=\"data row0 col2\" >2</td>\n",
       "                        <td id=\"T_3e424474_4819_11eb_a1cf_c82a1448dfberow0_col3\" class=\"data row0 col3\" >3</td>\n",
       "            </tr>\n",
       "            <tr>\n",
       "                        <th id=\"T_3e424474_4819_11eb_a1cf_c82a1448dfbelevel0_row1\" class=\"row_heading level0 row1\" >1</th>\n",
       "                        <td id=\"T_3e424474_4819_11eb_a1cf_c82a1448dfberow1_col0\" class=\"data row1 col0\" >4</td>\n",
       "                        <td id=\"T_3e424474_4819_11eb_a1cf_c82a1448dfberow1_col1\" class=\"data row1 col1\" >5</td>\n",
       "                        <td id=\"T_3e424474_4819_11eb_a1cf_c82a1448dfberow1_col2\" class=\"data row1 col2\" >6</td>\n",
       "                        <td id=\"T_3e424474_4819_11eb_a1cf_c82a1448dfberow1_col3\" class=\"data row1 col3\" >7</td>\n",
       "            </tr>\n",
       "            <tr>\n",
       "                        <th id=\"T_3e424474_4819_11eb_a1cf_c82a1448dfbelevel0_row2\" class=\"row_heading level0 row2\" >2</th>\n",
       "                        <td id=\"T_3e424474_4819_11eb_a1cf_c82a1448dfberow2_col0\" class=\"data row2 col0\" >8</td>\n",
       "                        <td id=\"T_3e424474_4819_11eb_a1cf_c82a1448dfberow2_col1\" class=\"data row2 col1\" >9</td>\n",
       "                        <td id=\"T_3e424474_4819_11eb_a1cf_c82a1448dfberow2_col2\" class=\"data row2 col2\" >10</td>\n",
       "                        <td id=\"T_3e424474_4819_11eb_a1cf_c82a1448dfberow2_col3\" class=\"data row2 col3\" >11</td>\n",
       "            </tr>\n",
       "    </tbody></table>   <style  type=\"text/css\" >\n",
       "</style><table id=\"T_3e428e34_4819_11eb_a1cf_c82a1448dfbe\" style='display:inline'><caption>tabela 2</caption><thead>    <tr>        <th class=\"blank level0\" ></th>        <th class=\"col_heading level0 col0\" >A</th>        <th class=\"col_heading level0 col1\" >B</th>        <th class=\"col_heading level0 col2\" >C</th>        <th class=\"col_heading level0 col3\" >D</th>    </tr></thead><tbody>\n",
       "                <tr>\n",
       "                        <th id=\"T_3e428e34_4819_11eb_a1cf_c82a1448dfbelevel0_row0\" class=\"row_heading level0 row0\" >0</th>\n",
       "                        <td id=\"T_3e428e34_4819_11eb_a1cf_c82a1448dfberow0_col0\" class=\"data row0 col0\" >0</td>\n",
       "                        <td id=\"T_3e428e34_4819_11eb_a1cf_c82a1448dfberow0_col1\" class=\"data row0 col1\" >1</td>\n",
       "                        <td id=\"T_3e428e34_4819_11eb_a1cf_c82a1448dfberow0_col2\" class=\"data row0 col2\" >2</td>\n",
       "                        <td id=\"T_3e428e34_4819_11eb_a1cf_c82a1448dfberow0_col3\" class=\"data row0 col3\" >3</td>\n",
       "            </tr>\n",
       "            <tr>\n",
       "                        <th id=\"T_3e428e34_4819_11eb_a1cf_c82a1448dfbelevel0_row1\" class=\"row_heading level0 row1\" >1</th>\n",
       "                        <td id=\"T_3e428e34_4819_11eb_a1cf_c82a1448dfberow1_col0\" class=\"data row1 col0\" >4</td>\n",
       "                        <td id=\"T_3e428e34_4819_11eb_a1cf_c82a1448dfberow1_col1\" class=\"data row1 col1\" >5</td>\n",
       "                        <td id=\"T_3e428e34_4819_11eb_a1cf_c82a1448dfberow1_col2\" class=\"data row1 col2\" >6</td>\n",
       "                        <td id=\"T_3e428e34_4819_11eb_a1cf_c82a1448dfberow1_col3\" class=\"data row1 col3\" >7</td>\n",
       "            </tr>\n",
       "            <tr>\n",
       "                        <th id=\"T_3e428e34_4819_11eb_a1cf_c82a1448dfbelevel0_row2\" class=\"row_heading level0 row2\" >2</th>\n",
       "                        <td id=\"T_3e428e34_4819_11eb_a1cf_c82a1448dfberow2_col0\" class=\"data row2 col0\" >8</td>\n",
       "                        <td id=\"T_3e428e34_4819_11eb_a1cf_c82a1448dfberow2_col1\" class=\"data row2 col1\" >9</td>\n",
       "                        <td id=\"T_3e428e34_4819_11eb_a1cf_c82a1448dfberow2_col2\" class=\"data row2 col2\" >10</td>\n",
       "                        <td id=\"T_3e428e34_4819_11eb_a1cf_c82a1448dfberow2_col3\" class=\"data row2 col3\" >11</td>\n",
       "            </tr>\n",
       "            <tr>\n",
       "                        <th id=\"T_3e428e34_4819_11eb_a1cf_c82a1448dfbelevel0_row3\" class=\"row_heading level0 row3\" >3</th>\n",
       "                        <td id=\"T_3e428e34_4819_11eb_a1cf_c82a1448dfberow3_col0\" class=\"data row3 col0\" >12</td>\n",
       "                        <td id=\"T_3e428e34_4819_11eb_a1cf_c82a1448dfberow3_col1\" class=\"data row3 col1\" >13</td>\n",
       "                        <td id=\"T_3e428e34_4819_11eb_a1cf_c82a1448dfberow3_col2\" class=\"data row3 col2\" >14</td>\n",
       "                        <td id=\"T_3e428e34_4819_11eb_a1cf_c82a1448dfberow3_col3\" class=\"data row3 col3\" >15</td>\n",
       "            </tr>\n",
       "    </tbody></table>   <style  type=\"text/css\" >\n",
       "</style><table id=\"T_3e42df06_4819_11eb_a1cf_c82a1448dfbe\" style='display:inline'><caption>tabela 3</caption><thead>    <tr>        <th class=\"blank level0\" ></th>        <th class=\"col_heading level0 col0\" >A</th>        <th class=\"col_heading level0 col1\" >B</th>        <th class=\"col_heading level0 col2\" >C</th>        <th class=\"col_heading level0 col3\" >D</th>    </tr></thead><tbody>\n",
       "                <tr>\n",
       "                        <th id=\"T_3e42df06_4819_11eb_a1cf_c82a1448dfbelevel0_row0\" class=\"row_heading level0 row0\" >0</th>\n",
       "                        <td id=\"T_3e42df06_4819_11eb_a1cf_c82a1448dfberow0_col0\" class=\"data row0 col0\" >0</td>\n",
       "                        <td id=\"T_3e42df06_4819_11eb_a1cf_c82a1448dfberow0_col1\" class=\"data row0 col1\" >1</td>\n",
       "                        <td id=\"T_3e42df06_4819_11eb_a1cf_c82a1448dfberow0_col2\" class=\"data row0 col2\" >2</td>\n",
       "                        <td id=\"T_3e42df06_4819_11eb_a1cf_c82a1448dfberow0_col3\" class=\"data row0 col3\" >3</td>\n",
       "            </tr>\n",
       "            <tr>\n",
       "                        <th id=\"T_3e42df06_4819_11eb_a1cf_c82a1448dfbelevel0_row1\" class=\"row_heading level0 row1\" >1</th>\n",
       "                        <td id=\"T_3e42df06_4819_11eb_a1cf_c82a1448dfberow1_col0\" class=\"data row1 col0\" >4</td>\n",
       "                        <td id=\"T_3e42df06_4819_11eb_a1cf_c82a1448dfberow1_col1\" class=\"data row1 col1\" >5</td>\n",
       "                        <td id=\"T_3e42df06_4819_11eb_a1cf_c82a1448dfberow1_col2\" class=\"data row1 col2\" >6</td>\n",
       "                        <td id=\"T_3e42df06_4819_11eb_a1cf_c82a1448dfberow1_col3\" class=\"data row1 col3\" >7</td>\n",
       "            </tr>\n",
       "            <tr>\n",
       "                        <th id=\"T_3e42df06_4819_11eb_a1cf_c82a1448dfbelevel0_row2\" class=\"row_heading level0 row2\" >2</th>\n",
       "                        <td id=\"T_3e42df06_4819_11eb_a1cf_c82a1448dfberow2_col0\" class=\"data row2 col0\" >8</td>\n",
       "                        <td id=\"T_3e42df06_4819_11eb_a1cf_c82a1448dfberow2_col1\" class=\"data row2 col1\" >9</td>\n",
       "                        <td id=\"T_3e42df06_4819_11eb_a1cf_c82a1448dfberow2_col2\" class=\"data row2 col2\" >10</td>\n",
       "                        <td id=\"T_3e42df06_4819_11eb_a1cf_c82a1448dfberow2_col3\" class=\"data row2 col3\" >11</td>\n",
       "            </tr>\n",
       "            <tr>\n",
       "                        <th id=\"T_3e42df06_4819_11eb_a1cf_c82a1448dfbelevel0_row3\" class=\"row_heading level0 row3\" >3</th>\n",
       "                        <td id=\"T_3e42df06_4819_11eb_a1cf_c82a1448dfberow3_col0\" class=\"data row3 col0\" >12</td>\n",
       "                        <td id=\"T_3e42df06_4819_11eb_a1cf_c82a1448dfberow3_col1\" class=\"data row3 col1\" >13</td>\n",
       "                        <td id=\"T_3e42df06_4819_11eb_a1cf_c82a1448dfberow3_col2\" class=\"data row3 col2\" >14</td>\n",
       "                        <td id=\"T_3e42df06_4819_11eb_a1cf_c82a1448dfberow3_col3\" class=\"data row3 col3\" >15</td>\n",
       "            </tr>\n",
       "            <tr>\n",
       "                        <th id=\"T_3e42df06_4819_11eb_a1cf_c82a1448dfbelevel0_row4\" class=\"row_heading level0 row4\" >4</th>\n",
       "                        <td id=\"T_3e42df06_4819_11eb_a1cf_c82a1448dfberow4_col0\" class=\"data row4 col0\" >16</td>\n",
       "                        <td id=\"T_3e42df06_4819_11eb_a1cf_c82a1448dfberow4_col1\" class=\"data row4 col1\" >17</td>\n",
       "                        <td id=\"T_3e42df06_4819_11eb_a1cf_c82a1448dfberow4_col2\" class=\"data row4 col2\" >18</td>\n",
       "                        <td id=\"T_3e42df06_4819_11eb_a1cf_c82a1448dfberow4_col3\" class=\"data row4 col3\" >19</td>\n",
       "            </tr>\n",
       "            <tr>\n",
       "                        <th id=\"T_3e42df06_4819_11eb_a1cf_c82a1448dfbelevel0_row5\" class=\"row_heading level0 row5\" >5</th>\n",
       "                        <td id=\"T_3e42df06_4819_11eb_a1cf_c82a1448dfberow5_col0\" class=\"data row5 col0\" >20</td>\n",
       "                        <td id=\"T_3e42df06_4819_11eb_a1cf_c82a1448dfberow5_col1\" class=\"data row5 col1\" >21</td>\n",
       "                        <td id=\"T_3e42df06_4819_11eb_a1cf_c82a1448dfberow5_col2\" class=\"data row5 col2\" >22</td>\n",
       "                        <td id=\"T_3e42df06_4819_11eb_a1cf_c82a1448dfberow5_col3\" class=\"data row5 col3\" >23</td>\n",
       "            </tr>\n",
       "            <tr>\n",
       "                        <th id=\"T_3e42df06_4819_11eb_a1cf_c82a1448dfbelevel0_row6\" class=\"row_heading level0 row6\" >6</th>\n",
       "                        <td id=\"T_3e42df06_4819_11eb_a1cf_c82a1448dfberow6_col0\" class=\"data row6 col0\" >24</td>\n",
       "                        <td id=\"T_3e42df06_4819_11eb_a1cf_c82a1448dfberow6_col1\" class=\"data row6 col1\" >25</td>\n",
       "                        <td id=\"T_3e42df06_4819_11eb_a1cf_c82a1448dfberow6_col2\" class=\"data row6 col2\" >26</td>\n",
       "                        <td id=\"T_3e42df06_4819_11eb_a1cf_c82a1448dfberow6_col3\" class=\"data row6 col3\" >27</td>\n",
       "            </tr>\n",
       "            <tr>\n",
       "                        <th id=\"T_3e42df06_4819_11eb_a1cf_c82a1448dfbelevel0_row7\" class=\"row_heading level0 row7\" >7</th>\n",
       "                        <td id=\"T_3e42df06_4819_11eb_a1cf_c82a1448dfberow7_col0\" class=\"data row7 col0\" >28</td>\n",
       "                        <td id=\"T_3e42df06_4819_11eb_a1cf_c82a1448dfberow7_col1\" class=\"data row7 col1\" >29</td>\n",
       "                        <td id=\"T_3e42df06_4819_11eb_a1cf_c82a1448dfberow7_col2\" class=\"data row7 col2\" >30</td>\n",
       "                        <td id=\"T_3e42df06_4819_11eb_a1cf_c82a1448dfberow7_col3\" class=\"data row7 col3\" >31</td>\n",
       "            </tr>\n",
       "            <tr>\n",
       "                        <th id=\"T_3e42df06_4819_11eb_a1cf_c82a1448dfbelevel0_row8\" class=\"row_heading level0 row8\" >8</th>\n",
       "                        <td id=\"T_3e42df06_4819_11eb_a1cf_c82a1448dfberow8_col0\" class=\"data row8 col0\" >32</td>\n",
       "                        <td id=\"T_3e42df06_4819_11eb_a1cf_c82a1448dfberow8_col1\" class=\"data row8 col1\" >33</td>\n",
       "                        <td id=\"T_3e42df06_4819_11eb_a1cf_c82a1448dfberow8_col2\" class=\"data row8 col2\" >34</td>\n",
       "                        <td id=\"T_3e42df06_4819_11eb_a1cf_c82a1448dfberow8_col3\" class=\"data row8 col3\" >35</td>\n",
       "            </tr>\n",
       "            <tr>\n",
       "                        <th id=\"T_3e42df06_4819_11eb_a1cf_c82a1448dfbelevel0_row9\" class=\"row_heading level0 row9\" >9</th>\n",
       "                        <td id=\"T_3e42df06_4819_11eb_a1cf_c82a1448dfberow9_col0\" class=\"data row9 col0\" >36</td>\n",
       "                        <td id=\"T_3e42df06_4819_11eb_a1cf_c82a1448dfberow9_col1\" class=\"data row9 col1\" >37</td>\n",
       "                        <td id=\"T_3e42df06_4819_11eb_a1cf_c82a1448dfberow9_col2\" class=\"data row9 col2\" >38</td>\n",
       "                        <td id=\"T_3e42df06_4819_11eb_a1cf_c82a1448dfberow9_col3\" class=\"data row9 col3\" >39</td>\n",
       "            </tr>\n",
       "    </tbody></table>   "
      ],
      "text/plain": [
       "<IPython.core.display.HTML object>"
      ]
     },
     "metadata": {},
     "output_type": "display_data"
    }
   ],
   "source": [
    "import pandas as pd\n",
    "import numpy as np\n",
    "from IPython.display import display, HTML, display_html\n",
    "\n",
    "df1 = pd.DataFrame(np.arange(12).reshape((3,4)),columns=['A','B','C','D',])\n",
    "df2 = pd.DataFrame(np.arange(16).reshape((4,4)),columns=['A','B','C','D',])\n",
    "df3 = pd.DataFrame(np.arange(40).reshape((10,4)),columns=['A','B','C','D',])\n",
    "\n",
    "def display_side_by_side(dfs:list, captions:list):\n",
    "    \"\"\"Display tables side by side to save vertical space\n",
    "    Input:\n",
    "        dfs: list of pandas.DataFrame\n",
    "        captions: list of table captions\n",
    "    \"\"\"\n",
    "    output = \"\"\n",
    "    combined = dict(zip(captions, dfs))\n",
    "    for caption, df in combined.items():\n",
    "        output += df.style.set_table_attributes(\"style='display:inline'\").set_caption(caption)._repr_html_()\n",
    "        output += \"\\xa0\\xa0\\xa0\"\n",
    "    display(HTML(output))\n",
    " \n",
    "display_side_by_side([df1, df2, df3], captions=['tabela 1', 'tabela 2', 'tabela 3'])"
   ]
  },
  {
   "cell_type": "markdown",
   "metadata": {},
   "source": [
    "# Mostrar outputs lado a lado - exemplo 2"
   ]
  },
  {
   "cell_type": "code",
   "execution_count": 19,
   "metadata": {
    "scrolled": false
   },
   "outputs": [
    {
     "data": {
      "application/vnd.jupyter.widget-view+json": {
       "model_id": "a82a6d6f67be4f098e5102075f3c4071",
       "version_major": 2,
       "version_minor": 0
      },
      "text/plain": [
       "HBox(children=(Output(), Output()), layout=Layout(display='flex', flex_flow='row', justify_content='space-arou…"
      ]
     },
     "metadata": {},
     "output_type": "display_data"
    }
   ],
   "source": [
    "from ipywidgets import widgets, Layout\n",
    "from IPython import display\n",
    "import pandas as pd\n",
    "import numpy as np\n",
    "\n",
    "# sample data\n",
    "df1 = pd.DataFrame(np.random.randn(8, 3))\n",
    "df2 = pd.DataFrame(np.random.randn(8, 3))\n",
    "\n",
    "# create output widgets\n",
    "widget1 = widgets.Output()\n",
    "widget2 = widgets.Output()\n",
    "\n",
    "# render in output widgets\n",
    "with widget1:\n",
    "    display.display(df1.style.set_caption('First dataframe'))\n",
    "    df1.info()\n",
    "with widget2:\n",
    "    display.display(df2.style.set_caption('Second dataframe'))\n",
    "    df1.info()\n",
    "\n",
    "\n",
    "# add some CSS styles to distribute free space\n",
    "box_layout = Layout(display='flex',\n",
    "                    flex_flow='row',\n",
    "                    justify_content='space-around',\n",
    "                    width='auto'\n",
    "                   )\n",
    "    \n",
    "# create Horisontal Box container\n",
    "hbox = widgets.HBox([widget1, widget2], layout=box_layout)\n",
    "\n",
    "# render hbox\n",
    "hbox"
   ]
  },
  {
   "cell_type": "markdown",
   "metadata": {},
   "source": [
    "# Selecionar e atualizar registos em DataFrames"
   ]
  },
  {
   "cell_type": "code",
   "execution_count": 31,
   "metadata": {
    "scrolled": true
   },
   "outputs": [
    {
     "data": {
      "text/html": [
       "<div>\n",
       "<style scoped>\n",
       "    .dataframe tbody tr th:only-of-type {\n",
       "        vertical-align: middle;\n",
       "    }\n",
       "\n",
       "    .dataframe tbody tr th {\n",
       "        vertical-align: top;\n",
       "    }\n",
       "\n",
       "    .dataframe thead th {\n",
       "        text-align: right;\n",
       "    }\n",
       "</style>\n",
       "<table border=\"1\" class=\"dataframe\">\n",
       "  <thead>\n",
       "    <tr style=\"text-align: right;\">\n",
       "      <th></th>\n",
       "      <th>age</th>\n",
       "      <th>section</th>\n",
       "      <th>city</th>\n",
       "      <th>gender</th>\n",
       "      <th>favourite_color</th>\n",
       "    </tr>\n",
       "  </thead>\n",
       "  <tbody>\n",
       "    <tr>\n",
       "      <th>0</th>\n",
       "      <td>10</td>\n",
       "      <td>A</td>\n",
       "      <td>Gurgaon</td>\n",
       "      <td>M</td>\n",
       "      <td>red</td>\n",
       "    </tr>\n",
       "    <tr>\n",
       "      <th>1</th>\n",
       "      <td>22</td>\n",
       "      <td>B</td>\n",
       "      <td>Delhi</td>\n",
       "      <td>F</td>\n",
       "      <td>NaN</td>\n",
       "    </tr>\n",
       "    <tr>\n",
       "      <th>2</th>\n",
       "      <td>13</td>\n",
       "      <td>C</td>\n",
       "      <td>Mumbai</td>\n",
       "      <td>F</td>\n",
       "      <td>yellow</td>\n",
       "    </tr>\n",
       "    <tr>\n",
       "      <th>3</th>\n",
       "      <td>21</td>\n",
       "      <td>B</td>\n",
       "      <td>Delhi</td>\n",
       "      <td>M</td>\n",
       "      <td>NaN</td>\n",
       "    </tr>\n",
       "    <tr>\n",
       "      <th>4</th>\n",
       "      <td>12</td>\n",
       "      <td>B</td>\n",
       "      <td>Mumbai</td>\n",
       "      <td>M</td>\n",
       "      <td>black</td>\n",
       "    </tr>\n",
       "    <tr>\n",
       "      <th>5</th>\n",
       "      <td>11</td>\n",
       "      <td>A</td>\n",
       "      <td>Delhi</td>\n",
       "      <td>M</td>\n",
       "      <td>green</td>\n",
       "    </tr>\n",
       "    <tr>\n",
       "      <th>6</th>\n",
       "      <td>17</td>\n",
       "      <td>A</td>\n",
       "      <td>Mumbai</td>\n",
       "      <td>F</td>\n",
       "      <td>red</td>\n",
       "    </tr>\n",
       "  </tbody>\n",
       "</table>\n",
       "</div>"
      ],
      "text/plain": [
       "   age section     city gender favourite_color\n",
       "0   10       A  Gurgaon      M             red\n",
       "1   22       B    Delhi      F             NaN\n",
       "2   13       C   Mumbai      F          yellow\n",
       "3   21       B    Delhi      M             NaN\n",
       "4   12       B   Mumbai      M           black\n",
       "5   11       A    Delhi      M           green\n",
       "6   17       A   Mumbai      F             red"
      ]
     },
     "metadata": {},
     "output_type": "display_data"
    }
   ],
   "source": [
    "# importing pandas and numpy\n",
    "import pandas as pd\n",
    "import numpy as np\n",
    "from IPython.display import display\n",
    "\n",
    "# crete a sample dataframe\n",
    "data = pd.DataFrame({\n",
    "    'age' :     [ 10, 22, 13, 21, 12, 11, 17],\n",
    "    'section' : [ 'A', 'B', 'C', 'B', 'B', 'A', 'A'],\n",
    "    'city' :    [ 'Gurgaon', 'Delhi', 'Mumbai', 'Delhi', 'Mumbai', 'Delhi', 'Mumbai'],\n",
    "    'gender' :  [ 'M', 'F', 'F', 'M', 'M', 'M', 'F'],\n",
    "    'favourite_color' : [ 'red', np.NAN, 'yellow', np.NAN, 'black', 'green', 'red']\n",
    "})\n",
    "\n",
    "# view the data\n",
    "display(data)\n",
    "\n",
    "# select all rows with a condition\n",
    "data.loc[data.age >= 15]\n",
    "\n",
    "# select with multiple conditions\n",
    "data.loc[(data.age >= 12) & (data.gender == 'M')]\n",
    "\n",
    "#slice\n",
    "data.loc[1:3]\n",
    "\n",
    "# select few columns with a condition\n",
    "data.loc[(data.age >= 12), ['city', 'gender']]\n",
    "\n",
    "# update a column with condition\n",
    "data.loc[(data.age >= 12), ['section']] = 'M'\n",
    "\n",
    "# update multiple columns with condition\n",
    "data.loc[(data.age >= 20), ['section', 'city']] = ['S','Pune']\n",
    "\n",
    "#data\n"
   ]
  },
  {
   "cell_type": "markdown",
   "metadata": {},
   "source": [
    "# Converter DataFrame para dict"
   ]
  },
  {
   "cell_type": "code",
   "execution_count": 32,
   "metadata": {},
   "outputs": [
    {
     "name": "stdout",
     "output_type": "stream",
     "text": [
      "{0: 10, 1: 22, 2: 13, 3: 21, 4: 12, 5: 11, 6: 17}\n",
      "{0: 'A', 1: 'S', 2: 'M', 3: 'S', 4: 'M', 5: 'A', 6: 'M'}\n",
      "{0: 'Gurgaon', 1: 'Pune', 2: 'Mumbai', 3: 'Pune', 4: 'Mumbai', 5: 'Delhi', 6: 'Mumbai'}\n",
      "{0: 'M', 1: 'F', 2: 'F', 3: 'M', 4: 'M', 5: 'M', 6: 'F'}\n",
      "{0: 'red', 1: nan, 2: 'yellow', 3: nan, 4: 'black', 5: 'green', 6: 'red'}\n"
     ]
    }
   ],
   "source": [
    "for i in data.T.to_dict(\"records\"):\n",
    "    print(i)"
   ]
  },
  {
   "cell_type": "markdown",
   "metadata": {},
   "source": [
    "# Ler vários ficheiros json numa diretoria e carregá-los numa DataFrame\n",
    "\n",
    "- Limpar valores a null\n",
    "- criar nova coluna selecionando x bytes de outro campo\n",
    "- eliminar duplicados\n",
    "- somar campos agrupando-os por outros campos"
   ]
  },
  {
   "cell_type": "code",
   "execution_count": 15,
   "metadata": {},
   "outputs": [],
   "source": [
    "import pandas as pd\n",
    "from pathlib import Path\n",
    "import json\n",
    "\n",
    "a = []\n",
    "\n",
    "for filename in Path.cwd().glob(r'input/*.json'):\n",
    "    with open(filename) as json_file:\n",
    "        data = json.load(json_file)\n",
    "        a += data\n",
    "df = pd.DataFrame(a)\n",
    "\n",
    "# Limpar valores null\n",
    "df['BusinessProcessName'].fillna('sem valor', inplace=True)\n",
    "df['processName'].fillna('sem valor', inplace=True)\n",
    "df['Erro'].fillna(0, inplace=True)\n",
    "\n",
    "# Criar nova coluna \n",
    "df['data'] = df.timeStamp.apply(lambda x: x[:10])\n",
    "\n",
    "# Eliminar duplicados de um campo\n",
    "df.drop_duplicates(subset='fingerprint', keep=\"last\")\n",
    "\n",
    "# somar campos agrupando-os por outros campos\n",
    "df_total = df.groupby(['data', 'nome'])[['campo1', 'campo2', 'campo3']].sum()"
   ]
  }
 ],
 "metadata": {
  "kernelspec": {
   "display_name": "Python 3",
   "language": "python",
   "name": "python3"
  },
  "language_info": {
   "codemirror_mode": {
    "name": "ipython",
    "version": 3
   },
   "file_extension": ".py",
   "mimetype": "text/x-python",
   "name": "python",
   "nbconvert_exporter": "python",
   "pygments_lexer": "ipython3",
   "version": "3.7.4"
  }
 },
 "nbformat": 4,
 "nbformat_minor": 4
}
